{
 "cells": [
  {
   "cell_type": "code",
   "execution_count": 7,
   "metadata": {
    "collapsed": false
   },
   "outputs": [
    {
     "name": "stderr",
     "output_type": "stream",
     "text": [
      "INFO:bokeh.core.state:Session output file 'select.html' already exists, will be overwritten.\n"
     ]
    }
   ],
   "source": [
    "from bokeh.io import output_file, show\n",
    "from bokeh.layouts import widgetbox\n",
    "from bokeh.models.widgets import Select\n",
    "from bokeh.layouts import layout\n",
    "\n",
    "\n",
    "import inclusion_calc as ic\n",
    "all_options = ['--'] + calc.df['End-member'].values.tolist()\n",
    "\n",
    "calc = ic.BarInclusion()\n",
    "output_file(\"select.html\")\n",
    "inclusion_one = Select(title=\"First inclusion:\", value=None, options=all_options)\n",
    "inclusion_two = Select(title=\"Second inclusion:\", value=None, options=all_options)\n",
    "inclusion_three = Select(title=\"Third inclusion:\", value=None, options=all_options)\n",
    "inclusion_four = Select(title=\"Fourth inclusion:\", value=None, options=all_options)\n",
    "inclusion_five = Select(title=\"Fifth inclusion:\", value=None, options=all_options)\n",
    "\n",
    "host_one = Select(title=\"First host:\", value=None, options=all_options)\n",
    "host_two = Select(title=\"Second host:\", value=None, options=all_options)\n",
    "host_three = Select(title=\"Third host:\", value=None, options=all_options)\n",
    "host_four = Select(title=\"Fourth host:\", value=None, options=all_options)\n",
    "host_five = Select(title=\"Fifth host:\", value=None, options=all_options)\n",
    "l = layout([\n",
    "  [inclusion_one, inclusion_two, inclusion_three, inclusion_four, inclusion_five],\n",
    "  [host_one, host_two, host_three, host_four, host_five]\n",
    "], sizing_mode='scale_both')\n",
    "show(l)"
   ]
  },
  {
   "cell_type": "code",
   "execution_count": null,
   "metadata": {
    "collapsed": true
   },
   "outputs": [],
   "source": []
  }
 ],
 "metadata": {
  "anaconda-cloud": {},
  "kernelspec": {
   "display_name": "Python [conda root]",
   "language": "python",
   "name": "conda-root-py"
  },
  "language_info": {
   "codemirror_mode": {
    "name": "ipython",
    "version": 3
   },
   "file_extension": ".py",
   "mimetype": "text/x-python",
   "name": "python",
   "nbconvert_exporter": "python",
   "pygments_lexer": "ipython3",
   "version": "3.5.2"
  }
 },
 "nbformat": 4,
 "nbformat_minor": 1
}
