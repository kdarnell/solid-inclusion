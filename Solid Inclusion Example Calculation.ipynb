{
 "cells": [
  {
   "cell_type": "markdown",
   "metadata": {},
   "source": [
    "# Import our package"
   ]
  },
  {
   "cell_type": "code",
   "execution_count": 1,
   "metadata": {
    "collapsed": false
   },
   "outputs": [],
   "source": [
    "import inclusion_calc as ic"
   ]
  },
  {
   "cell_type": "markdown",
   "metadata": {},
   "source": [
    "# Instantiate the package using a \"pre-defined\" excel file"
   ]
  },
  {
   "cell_type": "code",
   "execution_count": 2,
   "metadata": {
    "collapsed": false
   },
   "outputs": [],
   "source": [
    "calc = ic.BarInclusion()"
   ]
  },
  {
   "cell_type": "markdown",
   "metadata": {},
   "source": [
    "# Example calculation of hp_teos\n",
    "* Arguments are (Pressure, Temperature, phase)"
   ]
  },
  {
   "cell_type": "code",
   "execution_count": 3,
   "metadata": {
    "collapsed": false
   },
   "outputs": [
    {
     "data": {
      "text/plain": [
       "13.211241036331948"
      ]
     },
     "execution_count": 3,
     "metadata": {},
     "output_type": "execute_result"
    }
   ],
   "source": [
    "calc.hp_teos(30, 300, 'zo')"
   ]
  },
  {
   "cell_type": "markdown",
   "metadata": {},
   "source": [
    "# Example calculation of mix_elastic\n",
    "* Arguments are (Inclusion Pressure, Entrapment Pressure, Entrapment Temperate, Inclusions, Hosts)\n",
    "* Inclusions and Hosts will be a \"dictionary\"\n",
    "* Example:  \n",
    "    {phase: mole fraction}\n",
    "* phase can be abbreviation or full name, cases are not necessary"
   ]
  },
  {
   "cell_type": "code",
   "execution_count": 9,
   "metadata": {
    "collapsed": false
   },
   "outputs": [
    {
     "data": {
      "text/plain": [
       "-0.047581260995097033"
      ]
     },
     "execution_count": 9,
     "metadata": {},
     "output_type": "execute_result"
    }
   ],
   "source": [
    "host_dict = {'Quartz': 1.0}\n",
    "incl_dict = {'ab': 0.5, \n",
    "             'Zo': 0.5}\n",
    "P_incl = 10\n",
    "P_entrap = 20\n",
    "T_entrap = 310\n",
    "calc.mix_elastic(P_incl, P_entrap, T_entrap, incl_dict, host_dict)"
   ]
  },
  {
   "cell_type": "markdown",
   "metadata": {},
   "source": [
    "# Example calculation of P_entrap_calc\n",
    "* Arguments are (Inclusion Pressure, Entrapment Temperature, Inclusions, Hosts)\n",
    "* Inclusions and Hosts will be a \"dictionary\"\n",
    "* Example:  \n",
    "    {phase: mole fraction}\n",
    "* phase can be abbreviation or full name, cases are not necessary"
   ]
  },
  {
   "cell_type": "code",
   "execution_count": 6,
   "metadata": {
    "collapsed": false
   },
   "outputs": [
    {
     "data": {
      "text/plain": [
       "array([-16.68273641])"
      ]
     },
     "execution_count": 6,
     "metadata": {},
     "output_type": "execute_result"
    }
   ],
   "source": [
    "calc.P_entrap_calc(P_incl, T_entrap, incl_dict, host_dict)"
   ]
  },
  {
   "cell_type": "markdown",
   "metadata": {},
   "source": [
    "# Example calculation of T_entrap_calc\n",
    "* Arguments are (Inclusion Pressure, Entrapment Pressure, Inclusions, Hosts)\n",
    "* Inclusions and Hosts will be a \"dictionary\"\n",
    "* Example:  \n",
    "    {phase: mole fraction}\n",
    "* phase can be abbreviation or full name, cases are not necessary"
   ]
  },
  {
   "cell_type": "code",
   "execution_count": 7,
   "metadata": {
    "collapsed": false
   },
   "outputs": [
    {
     "name": "stderr",
     "output_type": "stream",
     "text": [
      "/Users/kdarnell/anaconda/lib/python3.5/site-packages/scipy/optimize/minpack.py:161: RuntimeWarning: The iteration is not making good progress, as measured by the \n",
      "  improvement from the last ten iterations.\n",
      "  warnings.warn(msg, RuntimeWarning)\n"
     ]
    },
    {
     "data": {
      "text/plain": [
       "array([ 1355.63866508])"
      ]
     },
     "execution_count": 7,
     "metadata": {},
     "output_type": "execute_result"
    }
   ],
   "source": [
    "calc.T_entrap_calc(P_incl, P_entrap, incl_dict, host_dict)"
   ]
  },
  {
   "cell_type": "code",
   "execution_count": null,
   "metadata": {
    "collapsed": true
   },
   "outputs": [],
   "source": []
  }
 ],
 "metadata": {
  "anaconda-cloud": {},
  "kernelspec": {
   "display_name": "Python [conda root]",
   "language": "python",
   "name": "conda-root-py"
  },
  "language_info": {
   "codemirror_mode": {
    "name": "ipython",
    "version": 3
   },
   "file_extension": ".py",
   "mimetype": "text/x-python",
   "name": "python",
   "nbconvert_exporter": "python",
   "pygments_lexer": "ipython3",
   "version": "3.5.2"
  }
 },
 "nbformat": 4,
 "nbformat_minor": 1
}
