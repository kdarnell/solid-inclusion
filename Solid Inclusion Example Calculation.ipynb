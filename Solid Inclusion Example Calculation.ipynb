{
 "cells": [
  {
   "cell_type": "markdown",
   "metadata": {},
   "source": [
    "# Import our package"
   ]
  },
  {
   "cell_type": "code",
   "execution_count": 1,
   "metadata": {
    "collapsed": false
   },
   "outputs": [],
   "source": [
    "import inclusion_calc as ic\n",
    "import numpy as np"
   ]
  },
  {
   "cell_type": "markdown",
   "metadata": {},
   "source": [
    "# Instantiate the package using a \"pre-defined\" excel file"
   ]
  },
  {
   "cell_type": "code",
   "execution_count": 2,
   "metadata": {
    "collapsed": false
   },
   "outputs": [],
   "source": [
    "calc = ic.BarInclusion()"
   ]
  },
  {
   "cell_type": "markdown",
   "metadata": {},
   "source": [
    "# Example calculation of hp_teos\n",
    "* Arguments are (Pressure in kbar, Temperature in Kelvin, phase)"
   ]
  },
  {
   "cell_type": "code",
   "execution_count": 3,
   "metadata": {
    "collapsed": false
   },
   "outputs": [
    {
     "data": {
      "text/plain": [
       "13.211241036331948"
      ]
     },
     "execution_count": 3,
     "metadata": {},
     "output_type": "execute_result"
    }
   ],
   "source": [
    "calc.hp_teos(30, 300, 'zo')"
   ]
  },
  {
   "cell_type": "markdown",
   "metadata": {},
   "source": [
    "# Example calculation of mix_elastic\n",
    "* Arguments are (Inclusion Pressure, Entrapment Pressure, Entrapment Temperate, Inclusions, Hosts)\n",
    "* Inclusions and Hosts will be a \"dictionary\"\n",
    "* Example:  \n",
    "    {phase: mole fraction}\n",
    "* phase can be abbreviation or full name, cases are not necessary"
   ]
  },
  {
   "cell_type": "code",
   "execution_count": 4,
   "metadata": {
    "collapsed": false
   },
   "outputs": [],
   "source": [
    "incl_dict = {'ab': 1.0}\n",
    "host_dict = {'Almandine': 1.0}\n",
    "P_incl = 100 / 100  # MPa converted to kbar\n",
    "P_entrap = 200 / 100  # MPa converted to kbar\n",
    "T_entrap = 273.15 + 600  # Kelvin"
   ]
  },
  {
   "cell_type": "markdown",
   "metadata": {},
   "source": [
    "# Example calculation of P_entrap_calc\n",
    "* Arguments are (Inclusion Pressure, Entrapment Temperature, Inclusions, Hosts)\n",
    "* Inclusions and Hosts will be a \"dictionary\"\n",
    "* Example:  \n",
    "    {phase: mole fraction}\n",
    "* phase can be abbreviation or full name, cases are not necessary\n",
    "* Entrapment Pressure is returned in kbar"
   ]
  },
  {
   "cell_type": "code",
   "execution_count": 5,
   "metadata": {
    "collapsed": false
   },
   "outputs": [
    {
     "name": "stdout",
     "output_type": "stream",
     "text": [
      "Entrapment pressure =  3.15 kbar (315.37 MPa)\n"
     ]
    }
   ],
   "source": [
    "P_out = calc.P_entrap_calc(P_incl, T_entrap, incl_dict, host_dict)\n",
    "print('Entrapment pressure = {0:5.2f} kbar ({1:5.2f} MPa)'.format(P_out, 100*P_out))"
   ]
  },
  {
   "cell_type": "markdown",
   "metadata": {},
   "source": [
    "# Example calculation of T_entrap_calc\n",
    "* Arguments are (Inclusion Pressure, Entrapment Pressure, Inclusions, Hosts)\n",
    "* Inclusions and Hosts will be a \"dictionary\"\n",
    "* Example:  \n",
    "    {phase: mole fraction}\n",
    "* phase can be abbreviation or full name, cases are not necessary\n",
    "* Entrapment temperature is returned in Kelvin"
   ]
  },
  {
   "cell_type": "code",
   "execution_count": 6,
   "metadata": {
    "collapsed": false
   },
   "outputs": [
    {
     "name": "stdout",
     "output_type": "stream",
     "text": [
      "Entrapment temperature = 271.28 K (-1.87 C)\n"
     ]
    }
   ],
   "source": [
    "T_out = calc.T_entrap_calc(P_incl, P_entrap, incl_dict, host_dict)\n",
    "print('Entrapment temperature = {0:5.2f} K ({1:5.2f} C)'.format(T_out, T_out - 273.15))"
   ]
  },
  {
   "cell_type": "markdown",
   "metadata": {
    "collapsed": true
   },
   "source": [
    "# The calculation above seems to work. Checking a new one."
   ]
  },
  {
   "cell_type": "code",
   "execution_count": 7,
   "metadata": {
    "collapsed": false
   },
   "outputs": [
    {
     "name": "stdout",
     "output_type": "stream",
     "text": [
      "Entrapment pressure = 13.21 kbar (1321.41 MPa)\n",
      "Entrapment temperature = 513.32 K (240.17 C)\n"
     ]
    }
   ],
   "source": [
    "incl_dict = {'tpz': 0.5,\n",
    "             'brucite': 0.5}\n",
    "host_dict = {'epidote': 1.0}\n",
    "P_incl = 200 / 100  # MPa converted to kbar\n",
    "P_entrap = 1400 / 100  # MPa converted to kbar\n",
    "T_entrap = 273.15 + 200  # Kelvin\n",
    "P_out = calc.P_entrap_calc(P_incl, T_entrap, incl_dict, host_dict)\n",
    "print('Entrapment pressure = {0:5.2f} kbar ({1:5.2f} MPa)'.format(P_out, 100*P_out))\n",
    "T_out = calc.T_entrap_calc(P_incl, P_entrap, incl_dict, host_dict)\n",
    "print('Entrapment temperature = {0:5.2f} K ({1:5.2f} C)'.format(T_out, T_out - 273.15))"
   ]
  },
  {
   "cell_type": "markdown",
   "metadata": {},
   "source": [
    "# This also seems to work just fine. However, the naming convention is a bit problematic."
   ]
  },
  {
   "cell_type": "code",
   "execution_count": null,
   "metadata": {
    "collapsed": true
   },
   "outputs": [],
   "source": []
  },
  {
   "cell_type": "markdown",
   "metadata": {},
   "source": [
    "# Now let's cycle through some inclusion pressure and entrapment temperatures (cycle through P = 100, 200, 300 MPa, T= 400-1000 C in 100 C increments)"
   ]
  },
  {
   "cell_type": "code",
   "execution_count": 8,
   "metadata": {
    "collapsed": true
   },
   "outputs": [],
   "source": [
    "incl_dict = {'ab': 1.0}\n",
    "host_dict = {'Almandine': 1.0}\n",
    "P_range = np.linspace(1, 4, 3)  # Range of pressures to calculate in kbar\n",
    "T_range = np.linspace(400, 1000, 6) + 273.15  # Range of temperatures to calculate in K\n",
    "P_entrap, T_mat, P_mat = calc.isobar_calc(T_range, P_range, incl_dict, host_dict)"
   ]
  },
  {
   "cell_type": "code",
   "execution_count": 9,
   "metadata": {
    "collapsed": false
   },
   "outputs": [
    {
     "data": {
      "image/png": "[encoded data removed]",
      "text/plain": [
       "<matplotlib.figure.Figure at 0x118988048>"
      ]
     },
     "metadata": {},
     "output_type": "display_data"
    }
   ],
   "source": [
    "import matplotlib.pyplot as plt\n",
    "plt.plot(T_mat.T - 273.15, 100*P_entrap.T, 's-', linewidth=3)\n",
    "plt.xlabel('Temperature, $^\\circ$C')\n",
    "plt.ylabel('Entrapment pressure, MPa')\n",
    "plt.grid('on')\n",
    "plt.show()"
   ]
  },
  {
   "cell_type": "code",
   "execution_count": null,
   "metadata": {
    "collapsed": true
   },
   "outputs": [],
   "source": []
  }
 ],
 "metadata": {
  "anaconda-cloud": {},
  "kernelspec": {
   "display_name": "Python [conda root]",
   "language": "python",
   "name": "conda-root-py"
  },
  "language_info": {
   "codemirror_mode": {
    "name": "ipython",
    "version": 3
   },
   "file_extension": ".py",
   "mimetype": "text/x-python",
   "name": "python",
   "nbconvert_exporter": "python",
   "pygments_lexer": "ipython3",
   "version": "3.5.2"
  }
 },
 "nbformat": 4,
 "nbformat_minor": 1
}
