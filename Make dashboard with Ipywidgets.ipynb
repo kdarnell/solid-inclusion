{
 "cells": [
  {
   "cell_type": "markdown",
   "metadata": {},
   "source": [
    "# This code will calculate Entrapment conditions given host and inclusions.\n",
    "## To run calculate do the following:\n",
    "    1. Set the host and inclusions.\n",
    "    2. Specify the mole fractions of hosts and inclusions.\n",
    "    3. Specify the Inclusion Pressure\n",
    "    4. To calculate the Entrapment Pressure, specify the Entrapment Temperature.\n",
    "    5. To calculate the Entrapment Temperature, specify the Entrapment Pressure.\n",
    "    6. To make a plot, specify the Entrapment Pressure. "
   ]
  },
  {
   "cell_type": "code",
   "execution_count": 1,
   "metadata": {
    "collapsed": false
   },
   "outputs": [],
   "source": [
    "from IPython.display import HTML, display\n",
    "from bokeh.io import output_file, show, output_notebook, push_notebook\n",
    "from bokeh.layouts import widgetbox\n",
    "from bokeh.models.widgets import Select, Button\n",
    "from bokeh.layouts import layout\n",
    "from bokeh.models.widgets import TextInput\n",
    "import ipywidgets as widgets\n",
    "import inclusion_calc as ic\n",
    "\n",
    "# output_notebook()\n",
    "\n",
    "calc = ic.BarInclusion()\n",
    "all_options = ['--'] + calc.df['End-member'].values.tolist()\n",
    "\n",
    "\n",
    "mapping = {'First': 1, 'Second': 2, 'Third': 3, 'Fourth': 4, 'Fifth': 5}\n",
    "host_widgets = {}\n",
    "inclusion_widgets = {}\n",
    "\n",
    "def on_value_change(change):\n",
    "    print(change['new'])\n",
    "\n",
    "for key, value in mapping.items():\n",
    "    host_name = key + 'Host :'\n",
    "    host_widgets[value] = {\n",
    "        'end-member': widgets.Dropdown(\n",
    "            options=all_options,\n",
    "            value='--',\n",
    "            description=host_name,\n",
    "            disabled=False),\n",
    "        'mole': widgets.BoundedFloatText(\n",
    "            value=0.0,\n",
    "            min=0,\n",
    "            max=1.0,\n",
    "            step=0.01,\n",
    "            description='Mole fraction:',\n",
    "            disabled=False)\n",
    "    }\n",
    "    \n",
    "    inclusion_name = key + 'Inclusion :'\n",
    "    inclusion_widgets[value] = {\n",
    "        'end-member': widgets.Dropdown(\n",
    "            options=all_options,\n",
    "            value='--',\n",
    "            description=inclusion_name,\n",
    "            disabled=False),\n",
    "        'mole': widgets.BoundedFloatText(\n",
    "            value=0.0,\n",
    "            min=0,\n",
    "            max=1.0,\n",
    "            step=0.01,\n",
    "            description='Mole fraction:',\n",
    "            disabled=False)\n",
    "    }\n",
    "    host_widgets[value]['end-member'].observe(on_value_change, names='value')\n",
    "    host_widgets[value]['mole'].observe(on_value_change, names='value')\n",
    "    inclusion_widgets[value]['end-member'].observe(on_value_change, names='value')\n",
    "    inclusion_widgets[value]['mole'].observe(on_value_change, names='value')\n",
    "\n",
    "\n",
    "\n",
    "widgets.VBox([widgets.HBox([x['end-member'], x['mole']]) for x in host_widgets.values()] \n",
    "             + [widgets.HBox([x['end-member'], x['mole']]) for x in inclusion_widgets.values()] )"
   ]
  },
  {
   "cell_type": "code",
   "execution_count": 2,
   "metadata": {
    "collapsed": false
   },
   "outputs": [],
   "source": [
    "# def gather_values(set_of_values):\n",
    "#     dict_for_calc = {}\n",
    "#     for row in set_of_values:\n",
    "#         drpdwn = row[0]._property_values\n",
    "#         input_val = row[1]\n",
    "#         print(drpdwn['value'])\n",
    "#         print(input_val)\n",
    "#         if (drpdwn['value'] is not None) and (input_val['value'] != \"0\"):\n",
    "#             dict_for_calc[drpdwn['value']] = float(input_val['value'])\n",
    "#     return dict_for_calc\n",
    "# gather_values(host_set)\n",
    "# print(host_one._property_values)"
   ]
  },
  {
   "cell_type": "code",
   "execution_count": 3,
   "metadata": {
    "collapsed": false
   },
   "outputs": [],
   "source": [
    "# P_incl = TextInput(value=\"100\", title=\"Inclusion Pressure, MPa\")\n",
    "# P_entrap = TextInput(value=\"100\", title=\"Entrapment Pressure, MPa\")\n",
    "# T_entrap = TextInput(value=\"100\", title=\"Entrapment Temperature, MPa\")\n",
    "\n",
    "# g = layout([\n",
    "#     [P_incl,P_entrap,T_entrap]\n",
    "# ])\n",
    "# show(g)"
   ]
  },
  {
   "cell_type": "code",
   "execution_count": 4,
   "metadata": {
    "collapsed": false
   },
   "outputs": [],
   "source": [
    "# button_T_entrap = Button(label=\"Calculate Entrapment Temperature\", button_type=\"success\")\n",
    "# button_P_entrap = Button(label=\"Calculate Entrapment Pressure\", button_type=\"success\")\n",
    "# button_make_plot = Button(label=\"Make Plot\", button_type=\"success\")\n",
    "\n",
    "# h = layout([[button_T_entrap, button_P_entrap, button_make_plot]])\n",
    "# show(h)"
   ]
  },
  {
   "cell_type": "code",
   "execution_count": 5,
   "metadata": {
    "collapsed": false
   },
   "outputs": [
    {
     "data": {
      "text/html": [
       "<script>\n",
       "  function code_toggle() {\n",
       "    if (code_shown){\n",
       "      $('div.input').hide('500');\n",
       "      $('#toggleButton').val('Show Code')\n",
       "    } else {\n",
       "      $('div.input').show('500');\n",
       "      $('#toggleButton').val('Hide Code')\n",
       "    }\n",
       "    code_shown = !code_shown\n",
       "  }\n",
       "\n",
       "  $( document ).ready(function(){\n",
       "    code_shown=false;\n",
       "    $('div.input').hide()\n",
       "  });\n",
       "</script>\n",
       "<form action=\"javascript:code_toggle()\"><input type=\"submit\" id=\"toggleButton\" value=\"Show Code\"></form>"
      ],
      "text/plain": [
       "<IPython.core.display.HTML object>"
      ]
     },
     "metadata": {},
     "output_type": "display_data"
    }
   ],
   "source": [
    "%%HTML\n",
    "<script>\n",
    "  function code_toggle() {\n",
    "    if (code_shown){\n",
    "      $('div.input').hide('500');\n",
    "      $('#toggleButton').val('Show Code')\n",
    "    } else {\n",
    "      $('div.input').show('500');\n",
    "      $('#toggleButton').val('Hide Code')\n",
    "    }\n",
    "    code_shown = !code_shown\n",
    "  }\n",
    "\n",
    "  $( document ).ready(function(){\n",
    "    code_shown=false;\n",
    "    $('div.input').hide()\n",
    "  });\n",
    "</script>\n",
    "<form action=\"javascript:code_toggle()\"><input type=\"submit\" id=\"toggleButton\" value=\"Show Code\"></form>"
   ]
  },
  {
   "cell_type": "code",
   "execution_count": null,
   "metadata": {
    "collapsed": true
   },
   "outputs": [],
   "source": []
  }
 ],
 "metadata": {
  "anaconda-cloud": {},
  "celltoolbar": "Raw Cell Format",
  "kernelspec": {
   "display_name": "Python [conda root]",
   "language": "python",
   "name": "conda-root-py"
  },
  "language_info": {
   "codemirror_mode": {
    "name": "ipython",
    "version": 3
   },
   "file_extension": ".py",
   "mimetype": "text/x-python",
   "name": "python",
   "nbconvert_exporter": "python",
   "pygments_lexer": "ipython3",
   "version": "3.5.2"
  }
 },
 "nbformat": 4,
 "nbformat_minor": 1
}
